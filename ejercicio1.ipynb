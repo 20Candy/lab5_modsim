{
 "cells": [
  {
   "cell_type": "markdown",
   "metadata": {},
   "source": [
    "## Laboratorio 5 - Modelación y Simulación\n",
    "### Ejercicio 1\n",
    "\n",
    "Stefano Aragoni, Carol Arévalo, Luis Santos\n",
    "\n",
    "----------------"
   ]
  },
  {
   "cell_type": "markdown",
   "metadata": {},
   "source": [
    "#### Ejercicio 1 - Depredador - Presa\n",
    "Debe crear una simulación de depredador-presa utilizando modelos basados en agentes. Modele varios tipos de\n",
    "depredadores con diferentes comportamientos y agregue obstáculos que afecten los movimientos de los agentes.\n",
    "\n",
    "Requisitos:\n",
    "- Cree una clase Predator con diferentes subclases para diferentes tipos de depredadores.\n",
    "- Modele diferentes comportamientos para distintos tipos de depredadores, como depredadores \"cazadores\" que persiguen activamente a sus presas y depredadores \"emboscadores\" que esconden y sorprenden a sus presas.\n",
    "- Agregue obstáculos que los agentes deben rodear.\n",
    "- Simule los movimientos de los agentes y visualice sus interacciones\n",
    "\n",
    "----------------"
   ]
  },
  {
   "cell_type": "markdown",
   "metadata": {},
   "source": [
    "#### Librerías\n",
    "\n",
    "En esta sección se importan las librerías necesarias para el desarrollo del ejercicio. Asimismo, se definen las constantes que se utilizarán en el ejercicio."
   ]
  },
  {
   "cell_type": "code",
   "execution_count": 145,
   "metadata": {},
   "outputs": [],
   "source": [
    "import numpy as np\n",
    "import matplotlib.pyplot as plt\n",
    "import uuid\n",
    "from PIL import Image\n",
    "from IPython.display import display, Image as IPImage\n",
    "\n",
    "map = 100\n",
    "num_steps = 25\n",
    "num_prey = 20\n",
    "num_predators = 5\n",
    "num_obs = 10"
   ]
  },
  {
   "cell_type": "markdown",
   "metadata": {
    "notebookRunGroups": {
     "groupValue": "2"
    }
   },
   "source": [
    "-----------\n",
    "\n",
    "#### Clases de Agentes\n",
    "\n",
    "En esta sección se declaraon las clases de los siguientes agentes:\n",
    "- Obstacle\n",
    "- Predator\n",
    "    - Hunter\n",
    "    - Ambusher\n",
    "- Prey"
   ]
  },
  {
   "cell_type": "code",
   "execution_count": 146,
   "metadata": {},
   "outputs": [],
   "source": [
    "class Obstacle():\n",
    "    def __init__(self, x, y):\n",
    "        self.position = np.array([x, y])"
   ]
  },
  {
   "cell_type": "code",
   "execution_count": 147,
   "metadata": {},
   "outputs": [],
   "source": [
    "class Predator():\n",
    "    def __init__(self, x, y, tipo):\n",
    "        self.position = np.array([x, y])\n",
    "        self.instance_hash = uuid.uuid4().hex\n",
    "        self.type = tipo"
   ]
  },
  {
   "cell_type": "code",
   "execution_count": 148,
   "metadata": {},
   "outputs": [],
   "source": [
    "class Hunter(Predator):\n",
    "    def __init__(self, x, y):\n",
    "        super().__init__(x, y, 'hunter')\n",
    "    \n",
    "    def update(self, prey_list, obstacle_list):\n",
    "        # Regla 1: \n",
    "        pass"
   ]
  },
  {
   "cell_type": "code",
   "execution_count": 149,
   "metadata": {},
   "outputs": [],
   "source": [
    "class Ambusher(Predator):\n",
    "    def __init__(self, x, y):\n",
    "        super().__init__(x, y, 'ambusher')\n",
    "        self.speed = 10\n",
    "    \n",
    "    def update(self, prey_list, obstacle_list):\n",
    "        # ------------------------------------------------------------\n",
    "        # Regla 0: Presas vivas - Revisar si hay presas vivas en el mapa\n",
    "        if len(prey_list) == 0:\n",
    "            # No hay presas vivas, no hacer nada\n",
    "            return\n",
    "\n",
    "        # ------------------------------------------------------------\n",
    "        # Regla 1: Cazar - Si hay una presa en el range de caza, cazarla\n",
    "        closest_prey = min(prey_list, key=lambda prey: np.linalg.norm(self.position - prey.position))\n",
    "\n",
    "        if np.linalg.norm(self.position - closest_prey.position) <= 10:\n",
    "            # Capturar presa\n",
    "            self.position = closest_prey.position\n",
    "            return\n",
    "        \n",
    "        # ------------------------------------------------------------\n",
    "        # Regla 2: Moverse al obstaculo mas cercano para emboscar\n",
    "        closest_obstacle = min(obstacle_list, key=lambda obstacle: np.linalg.norm(self.position - obstacle.position))\n",
    "\n",
    "        # Si el obstaculo esta a menos de la velocidad, moverse al obstaculo\n",
    "        if np.linalg.norm(self.position - closest_obstacle.position) <= self.speed:\n",
    "            # Acercarse al obstaculo en un paso pero no atravesarlo\n",
    "            new_position = closest_obstacle.position + (self.position - closest_obstacle.position) / np.linalg.norm(self.position - closest_obstacle.position)\n",
    "\n",
    "        # Si el obstaculo esta a mas de la velocidad, moverse en la direccion del obstaculo\n",
    "        else:\n",
    "            obstacle_direction = self.position - closest_obstacle.position\n",
    "            obstacle_direction = obstacle_direction / np.linalg.norm(obstacle_direction)\n",
    "\n",
    "            new_position = self.position + obstacle_direction * self.speed\n",
    "\n",
    "        # ------------------------------------------------------------\n",
    "        # Regla 4: Que no se salga del mapa - Restringir la nueva posición dentro de los límites del mapa\n",
    "        new_position = np.clip(new_position, 0, map - 1)\n",
    "\n",
    "        self.position = new_position"
   ]
  },
  {
   "cell_type": "code",
   "execution_count": 150,
   "metadata": {},
   "outputs": [],
   "source": [
    "class Prey():\n",
    "    def __init__(self, x, y):\n",
    "        self.position = np.array([x, y])\n",
    "        self.alive = True\n",
    "        self.instance_hash = uuid.uuid4().hex\n",
    "        self.speed = np.random.randint(1, 3)\n",
    "    \n",
    "    def update(self, predator_list, obstacle_list):\n",
    "\n",
    "        # ------------------------------------------------------------\n",
    "        # Regla 0: Que no se lo coma el depredador - Verificar si el depredador lo atrapó\n",
    "        closest_predator = min(predator_list, key=lambda predator: np.linalg.norm(self.position - predator.position))\n",
    "        if np.linalg.norm(self.position - closest_predator.position) < 3:\n",
    "            self.alive = False\n",
    "            return\n",
    "\n",
    "        # ------------------------------------------------------------\n",
    "        # Regla 1: Escapar de depredador - Huir del depredador más cercano\n",
    "        closest_predator = min(predator_list, key=lambda predator: np.linalg.norm(self.position - predator.position))\n",
    "\n",
    "        if np.linalg.norm(self.position - closest_predator.position) < 10:\n",
    "            # Si el depredador está cerca, huir de él\n",
    "            direction = self.position - closest_predator.position           # Calcular la dirección hacia el depredador más cercano \n",
    "\n",
    "        else:\n",
    "            # Si el depredador está lejos, moverse o no moverse aleatoriamente\n",
    "            if np.random.random() < 0.5:\n",
    "                direction = np.random.random(2) * 2 - 1                      # Moverse aleatoriamente\n",
    "            else:\n",
    "                direction = np.array([0, 0])\n",
    "\n",
    "        # ------------------------------------------------------------\n",
    "        # Regla 2: Evitar obstáculos - Evitar el obstáculo más cercano\n",
    "        closest_obstacle = min(obstacle_list, key=lambda obstacle: np.linalg.norm(self.position - obstacle.position))\n",
    "        if np.linalg.norm(self.position - closest_obstacle.position) < 5:\n",
    "            # Si el obstáculo está cerca, alejarse de él\n",
    "            obstacle_direction = self.position - closest_obstacle.position\n",
    "            obstacle_direction = obstacle_direction / np.linalg.norm(obstacle_direction)\n",
    "\n",
    "        else:\n",
    "            obstacle_direction = np.array([0, 0])\n",
    "\n",
    "        # ------------------------------------------------------------\n",
    "        # Regla 3: Alejarse de depredadores y obstáculos\n",
    "        direction = (direction + obstacle_direction) / 2\n",
    "\n",
    "        if np.linalg.norm(direction) > 0:       # Si la dirección normalizada no es cero, moverse en esa dirección\n",
    "            direction_normalized = direction / np.linalg.norm(direction)\n",
    "            new_position = self.position + direction_normalized * self.speed\n",
    "        else:                                   # Si la dirección normalizada es cero, moverse aleatoriamente\n",
    "            direction_random = np.random.random(2) * 2 - 1\n",
    "            new_position = self.position + direction_random * self.speed\n",
    "\n",
    "        # ------------------------------------------------------------\n",
    "        # Regla 4: Que no se salga del mapa - Restringir la nueva posición dentro de los límites del mapa\n",
    "        new_position = np.clip(new_position, 0, map - 1)\n",
    "\n",
    "        self.position = new_position\n"
   ]
  },
  {
   "cell_type": "markdown",
   "metadata": {},
   "source": [
    "-------"
   ]
  },
  {
   "cell_type": "markdown",
   "metadata": {},
   "source": [
    "#### Creación de agentes\n",
    "\n",
    "En esta sección se crean los agentes que se utilizarán en la simulación. Se aleatorizan las posiciones de los agentes en el espacio de simulación."
   ]
  },
  {
   "cell_type": "markdown",
   "metadata": {},
   "source": [
    "- Obstáculos"
   ]
  },
  {
   "cell_type": "code",
   "execution_count": 151,
   "metadata": {},
   "outputs": [],
   "source": [
    "obstacles = []\n",
    "positions = [\"-1,-1\"]\n",
    "\n",
    "for i in range(num_obs):\n",
    "\n",
    "    x = np.random.randint(0, map-5)\n",
    "    y = np.random.randint(0, map-5)\n",
    "\n",
    "    for j in range(0, 6):\n",
    "        for k in range(0, 6):\n",
    "            obstacles.append(Obstacle(x, y))\n",
    "            positions.append(str(x) + \",\" + str(y))\n",
    "\n",
    "            x += 1\n",
    "\n",
    "        x -= 6\n",
    "        y += 1"
   ]
  },
  {
   "cell_type": "markdown",
   "metadata": {},
   "source": [
    "- Depredadores"
   ]
  },
  {
   "cell_type": "code",
   "execution_count": 152,
   "metadata": {},
   "outputs": [],
   "source": [
    "predators = []\n",
    "\n",
    "for i in range(0, num_predators):\n",
    "    x = -1\n",
    "    y = -1\n",
    "\n",
    "    while str(x) + \",\" + str(y) in positions:\n",
    "        x = np.random.randint(0, map-1)\n",
    "        y = np.random.randint(0, map-1)\n",
    "\n",
    "    if np.random.random() < 0.5:\n",
    "        predators.append(Hunter(x, y))\n",
    "    else:\n",
    "        predators.append(Ambusher(x, y))"
   ]
  },
  {
   "cell_type": "markdown",
   "metadata": {},
   "source": [
    "- Presas"
   ]
  },
  {
   "cell_type": "code",
   "execution_count": 153,
   "metadata": {},
   "outputs": [],
   "source": [
    "prey = []\n",
    "\n",
    "for i in range(0, num_prey):\n",
    "    x = -1\n",
    "    y = -1\n",
    "\n",
    "    while str(x) + \",\" + str(y) in positions:\n",
    "        x = np.random.randint(0, map-1)\n",
    "        y = np.random.randint(0, map-1)\n",
    "\n",
    "    prey.append(Prey(x, y))"
   ]
  },
  {
   "cell_type": "markdown",
   "metadata": {},
   "source": [
    "----------------\n",
    "\n",
    "#### Simulación\n",
    "\n",
    "En esta sección se simula el funcionamiento de los agentes. Se definen las reglas de comportamiento de los agentes y se ejecuta la simulación."
   ]
  },
  {
   "cell_type": "code",
   "execution_count": 154,
   "metadata": {},
   "outputs": [],
   "source": [
    "list_images = []\n",
    "\n",
    "for step in range(num_steps):\n",
    "    plt.figure(figsize=(8, 8))\n",
    "    plt.xlim(0, map)\n",
    "    plt.ylim(0, map)\n",
    "    \n",
    "    prey_positions = np.array([p.position for p in prey if p.alive])\n",
    "    predator_positions = np.array([p.position for p in predators])\n",
    "\n",
    "    for obstacle in obstacles:\n",
    "        plt.plot(obstacle.position[0], obstacle.position[1], 'ko')\n",
    "    \n",
    "    if prey_positions.shape[0] > 0:\n",
    "        for predator in predators:\n",
    "            predator.update(prey, obstacles)\n",
    "        \n",
    "        for p in prey:\n",
    "            if p.alive:\n",
    "                p.update(predators, obstacles)\n",
    "                plt.plot(p.position[0], p.position[1], 'go')\n",
    "        \n",
    "        for predator in predators:\n",
    "            if predator.type == 'hunter':\n",
    "                plt.plot(predator.position[0], predator.position[1], 'ro')\n",
    "            else:\n",
    "                plt.plot(predator.position[0], predator.position[1], 'bo')\n",
    "    \n",
    "    plt.xlabel(\"x\")\n",
    "    plt.ylabel(\"y\")\n",
    "    plt.title(\"Step \" + str(step))\n",
    "    name = \"images1/step_\" + str(step) + \".jpg\"\n",
    "    plt.savefig(name, format=\"jpg\")\n",
    "    plt.close()\n",
    "    list_images.append(name)\n",
    "\n",
    "# Crear el GIF\n",
    "images = [Image.open(path) for path in list_images]\n",
    "images[0].save('predator_prey_simulation.gif', save_all=True, append_images=images[1:], loop=0, duration=200)\n",
    "\n",
    "# Mostrar el GIF\n",
    "display(IPImage(\"predator_prey_simulation.gif\"))"
   ]
  },
  {
   "cell_type": "markdown",
   "metadata": {},
   "source": [
    "------"
   ]
  },
  {
   "cell_type": "markdown",
   "metadata": {},
   "source": []
  }
 ],
 "metadata": {
  "kernelspec": {
   "display_name": "Python 3",
   "language": "python",
   "name": "python3"
  },
  "language_info": {
   "codemirror_mode": {
    "name": "ipython",
    "version": 3
   },
   "file_extension": ".py",
   "mimetype": "text/x-python",
   "name": "python",
   "nbconvert_exporter": "python",
   "pygments_lexer": "ipython3",
   "version": "3.9.2"
  },
  "orig_nbformat": 4
 },
 "nbformat": 4,
 "nbformat_minor": 2
}
