{
 "cells": [
  {
   "cell_type": "markdown",
   "metadata": {},
   "source": [
    "## Laboratorio 5 - Modelación y Simulación\n",
    "### Ejercicio 1\n",
    "\n",
    "Stefano Aragoni, Carol Arévalo, Luis Santos\n",
    "\n",
    "----------------"
   ]
  },
  {
   "cell_type": "markdown",
   "metadata": {},
   "source": [
    "#### Ejercicio 1 - Depredador - Presa\n",
    "Debe crear una simulación de depredador-presa utilizando modelos basados en agentes. Modele varios tipos de\n",
    "depredadores con diferentes comportamientos y agregue obstáculos que afecten los movimientos de los agentes.\n",
    "\n",
    "Requisitos:\n",
    "- Cree una clase Predator con diferentes subclases para diferentes tipos de depredadores.\n",
    "- Modele diferentes comportamientos para distintos tipos de depredadores, como depredadores \"cazadores\" que persiguen activamente a sus presas y depredadores \"emboscadores\" que esconden y sorprenden a sus presas.\n",
    "- Agregue obstáculos que los agentes deben rodear.\n",
    "- Simule los movimientos de los agentes y visualice sus interacciones\n",
    "\n",
    "----------------"
   ]
  },
  {
   "cell_type": "code",
   "execution_count": 55,
   "metadata": {},
   "outputs": [],
   "source": [
    "import numpy as np\n",
    "import matplotlib.pyplot as plt\n",
    "import uuid\n",
    "from PIL import Image\n",
    "from IPython.display import display, Image as IPImage\n",
    "\n",
    "map = 100"
   ]
  },
  {
   "cell_type": "code",
   "execution_count": 56,
   "metadata": {},
   "outputs": [],
   "source": [
    "class Obstacle():\n",
    "    def __init__(self, x, y):\n",
    "        self.position = np.array([x, y])"
   ]
  },
  {
   "cell_type": "code",
   "execution_count": 57,
   "metadata": {},
   "outputs": [],
   "source": [
    "class Predator():\n",
    "    def __init__(self, x, y):\n",
    "        self.position = np.array([x, y])\n",
    "        self.instance_hash = uuid.uuid4().hex"
   ]
  },
  {
   "cell_type": "code",
   "execution_count": 58,
   "metadata": {},
   "outputs": [],
   "source": [
    "class Hunter(Predator):\n",
    "    def __init__(self, x, y):\n",
    "        super().__init__(x, y)\n",
    "    \n",
    "    def update(self, prey_list, obstacle_list):\n",
    "        # Regla 1: \n",
    "        pass"
   ]
  },
  {
   "cell_type": "code",
   "execution_count": 59,
   "metadata": {},
   "outputs": [],
   "source": [
    "class Ambusher(Predator):\n",
    "    def __init__(self, x, y):\n",
    "        super().__init__(x, y)\n",
    "    \n",
    "    def update(self, prey_list, obstacle_list):\n",
    "        # Regla 1:\n",
    "        pass"
   ]
  },
  {
   "cell_type": "code",
   "execution_count": 60,
   "metadata": {},
   "outputs": [],
   "source": [
    "class Prey():\n",
    "    def __init__(self, x, y):\n",
    "        self.position = np.array([x, y])\n",
    "        self.alive = True\n",
    "        self.instance_hash = uuid.uuid4().hex\n",
    "        self.speed = np.random.randint(1, 3)\n",
    "    \n",
    "    def update(self, predator_list, obstacle_list):\n",
    "\n",
    "        # ------------------------------------------------------------\n",
    "        # Regla 0: Que no se lo coma el depredador - Verificar si el depredador lo atrapó\n",
    "        closest_predator = min(predator_list, key=lambda predator: np.linalg.norm(self.position - predator.position))\n",
    "        if np.linalg.norm(self.position - closest_predator.position) < 3:\n",
    "            self.alive = False\n",
    "            return\n",
    "\n",
    "        # ------------------------------------------------------------\n",
    "        # Regla 1: Escapar - Huir del depredador más cercano\n",
    "        closest_predator = min(predator_list, key=lambda predator: np.linalg.norm(self.position - predator.position))\n",
    "\n",
    "        if np.linalg.norm(self.position - closest_predator.position) < 10:\n",
    "            # Si el depredador está cerca, huir de él\n",
    "            direction = self.position - closest_predator.position           # Calcular la dirección hacia el depredador más cercano \n",
    "\n",
    "        else:\n",
    "            # Si el depredador está lejos, moverse o no moverse aleatoriamente\n",
    "            if np.random.random() < 0.5:\n",
    "                direction = np.random.random(2) * 2 - 1                      # Moverse aleatoriamente\n",
    "            else:\n",
    "                direction = np.array([0, 0])\n",
    "\n",
    "        # ------------------------------------------------------------\n",
    "        # Regla 2: Evitar obstáculos - Evitar el obstáculo más cercano\n",
    "        closest_obstacle = min(obstacle_list, key=lambda obstacle: np.linalg.norm(self.position - obstacle.position))\n",
    "        if np.linalg.norm(self.position - closest_obstacle.position) < 5:\n",
    "            # Si el obstáculo está cerca, alejarse de él\n",
    "            obstacle_direction = self.position - closest_obstacle.position\n",
    "            obstacle_direction = obstacle_direction / np.linalg.norm(obstacle_direction)\n",
    "\n",
    "        else:\n",
    "            obstacle_direction = np.array([0, 0])\n",
    "\n",
    "        # ------------------------------------------------------------\n",
    "        # Regla 3: Alejarse de depredadores y obstáculos\n",
    "        direction = (direction + obstacle_direction) / 2\n",
    "\n",
    "        if np.linalg.norm(direction) > 0:       # Si la dirección normalizada no es cero, moverse en esa dirección\n",
    "            direction_normalized = direction / np.linalg.norm(direction)\n",
    "            new_position = self.position + direction_normalized * self.speed\n",
    "        else:                                   # Si la dirección normalizada es cero, moverse aleatoriamente\n",
    "            direction_random = np.random.random(2) * 2 - 1\n",
    "            new_position = self.position + direction_random * self.speed\n",
    "\n",
    "        # ------------------------------------------------------------\n",
    "        # Regla 4: Que no se salga del mapa - Restringir la nueva posición dentro de los límites del mapa\n",
    "        new_position = np.clip(new_position, 0, map - 1)\n",
    "\n",
    "        self.position = new_position\n"
   ]
  },
  {
   "cell_type": "code",
   "execution_count": 61,
   "metadata": {},
   "outputs": [],
   "source": [
    "obstacles = []\n",
    "positions = [\"-1,-1\"]\n",
    "\n",
    "for i in range(0, 11):\n",
    "\n",
    "    x = np.random.randint(0, map-5)\n",
    "    y = np.random.randint(0, map-5)\n",
    "\n",
    "    for j in range(0, 6):\n",
    "        for k in range(0, 6):\n",
    "            obstacles.append(Obstacle(x, y))\n",
    "            positions.append(str(x) + \",\" + str(y))\n",
    "\n",
    "            x += 1\n",
    "\n",
    "        x -= 6\n",
    "        y += 1"
   ]
  },
  {
   "cell_type": "code",
   "execution_count": 62,
   "metadata": {},
   "outputs": [
    {
     "name": "stdout",
     "output_type": "stream",
     "text": [
      "Hunter\n",
      "Ambusher\n",
      "Ambusher\n",
      "Ambusher\n",
      "Ambusher\n"
     ]
    }
   ],
   "source": [
    "predators = []\n",
    "num_predators = 5\n",
    "\n",
    "for i in range(0, num_predators):\n",
    "    x = -1\n",
    "    y = -1\n",
    "\n",
    "    while str(x) + \",\" + str(y) in positions:\n",
    "        x = np.random.randint(0, map-1)\n",
    "        y = np.random.randint(0, map-1)\n",
    "\n",
    "    if np.random.random() < 0.5:\n",
    "        predators.append(Hunter(x, y))\n",
    "        print(\"Hunter\")\n",
    "    else:\n",
    "        predators.append(Ambusher(x, y))\n",
    "        print(\"Ambusher\")"
   ]
  },
  {
   "cell_type": "code",
   "execution_count": 63,
   "metadata": {},
   "outputs": [],
   "source": [
    "prey = []\n",
    "num_prey = 100\n",
    "\n",
    "for i in range(0, num_prey):\n",
    "    x = -1\n",
    "    y = -1\n",
    "\n",
    "    while str(x) + \",\" + str(y) in positions:\n",
    "        x = np.random.randint(0, map-1)\n",
    "        y = np.random.randint(0, map-1)\n",
    "\n",
    "    prey.append(Prey(x, y))"
   ]
  },
  {
   "cell_type": "code",
   "execution_count": 64,
   "metadata": {},
   "outputs": [
    {
     "name": "stderr",
     "output_type": "stream",
     "text": [
      "/var/folders/wq/gs7vpwkj7k31lw9njy09srjw0000gn/T/ipykernel_31814/3918203500.py:47: RuntimeWarning: invalid value encountered in true_divide\n",
      "  new_position = self.position + (direction / np.linalg.norm(direction)) * self.speed\n",
      "/var/folders/wq/gs7vpwkj7k31lw9njy09srjw0000gn/T/ipykernel_31814/3918203500.py:47: RuntimeWarning: invalid value encountered in true_divide\n",
      "  new_position = self.position + (direction / np.linalg.norm(direction)) * self.speed\n",
      "/var/folders/wq/gs7vpwkj7k31lw9njy09srjw0000gn/T/ipykernel_31814/3918203500.py:47: RuntimeWarning: invalid value encountered in true_divide\n",
      "  new_position = self.position + (direction / np.linalg.norm(direction)) * self.speed\n",
      "/var/folders/wq/gs7vpwkj7k31lw9njy09srjw0000gn/T/ipykernel_31814/3918203500.py:47: RuntimeWarning: invalid value encountered in true_divide\n",
      "  new_position = self.position + (direction / np.linalg.norm(direction)) * self.speed\n"
     ]
    },
    {
     "ename": "KeyboardInterrupt",
     "evalue": "",
     "output_type": "error",
     "traceback": [
      "\u001b[0;31m---------------------------------------------------------------------------\u001b[0m",
      "\u001b[0;31mKeyboardInterrupt\u001b[0m                         Traceback (most recent call last)",
      "Cell \u001b[0;32mIn[64], line 21\u001b[0m\n\u001b[1;32m     19\u001b[0m \u001b[39mfor\u001b[39;00m p \u001b[39min\u001b[39;00m prey:\n\u001b[1;32m     20\u001b[0m     \u001b[39mif\u001b[39;00m p\u001b[39m.\u001b[39malive:\n\u001b[0;32m---> 21\u001b[0m         p\u001b[39m.\u001b[39;49mupdate(predators, obstacles)\n\u001b[1;32m     22\u001b[0m         plt\u001b[39m.\u001b[39mplot(p\u001b[39m.\u001b[39mposition[\u001b[39m0\u001b[39m], p\u001b[39m.\u001b[39mposition[\u001b[39m1\u001b[39m], \u001b[39m'\u001b[39m\u001b[39mgo\u001b[39m\u001b[39m'\u001b[39m)\n\u001b[1;32m     24\u001b[0m \u001b[39mfor\u001b[39;00m predator \u001b[39min\u001b[39;00m predators:\n",
      "Cell \u001b[0;32mIn[60], line 34\u001b[0m, in \u001b[0;36mPrey.update\u001b[0;34m(self, predator_list, obstacle_list)\u001b[0m\n\u001b[1;32m     30\u001b[0m         direction \u001b[39m=\u001b[39m np\u001b[39m.\u001b[39marray([\u001b[39m0\u001b[39m, \u001b[39m0\u001b[39m])\n\u001b[1;32m     32\u001b[0m \u001b[39m# ------------------------------------------------------------\u001b[39;00m\n\u001b[1;32m     33\u001b[0m \u001b[39m# Regla 2: Evitar obstáculos - Evitar el obstáculo más cercano\u001b[39;00m\n\u001b[0;32m---> 34\u001b[0m closest_obstacle \u001b[39m=\u001b[39m \u001b[39mmin\u001b[39;49m(obstacle_list, key\u001b[39m=\u001b[39;49m\u001b[39mlambda\u001b[39;49;00m obstacle: np\u001b[39m.\u001b[39;49mlinalg\u001b[39m.\u001b[39;49mnorm(\u001b[39mself\u001b[39;49m\u001b[39m.\u001b[39;49mposition \u001b[39m-\u001b[39;49m obstacle\u001b[39m.\u001b[39;49mposition))\n\u001b[1;32m     36\u001b[0m \u001b[39mif\u001b[39;00m np\u001b[39m.\u001b[39mlinalg\u001b[39m.\u001b[39mnorm(\u001b[39mself\u001b[39m\u001b[39m.\u001b[39mposition \u001b[39m-\u001b[39m closest_obstacle\u001b[39m.\u001b[39mposition) \u001b[39m<\u001b[39m \u001b[39m5\u001b[39m:\n\u001b[1;32m     37\u001b[0m     \u001b[39m# Si el obstáculo está cerca, alejarse de él\u001b[39;00m\n\u001b[1;32m     38\u001b[0m     obstacle_direction \u001b[39m=\u001b[39m \u001b[39mself\u001b[39m\u001b[39m.\u001b[39mposition \u001b[39m-\u001b[39m closest_obstacle\u001b[39m.\u001b[39mposition\n",
      "Cell \u001b[0;32mIn[60], line 34\u001b[0m, in \u001b[0;36mPrey.update.<locals>.<lambda>\u001b[0;34m(obstacle)\u001b[0m\n\u001b[1;32m     30\u001b[0m         direction \u001b[39m=\u001b[39m np\u001b[39m.\u001b[39marray([\u001b[39m0\u001b[39m, \u001b[39m0\u001b[39m])\n\u001b[1;32m     32\u001b[0m \u001b[39m# ------------------------------------------------------------\u001b[39;00m\n\u001b[1;32m     33\u001b[0m \u001b[39m# Regla 2: Evitar obstáculos - Evitar el obstáculo más cercano\u001b[39;00m\n\u001b[0;32m---> 34\u001b[0m closest_obstacle \u001b[39m=\u001b[39m \u001b[39mmin\u001b[39m(obstacle_list, key\u001b[39m=\u001b[39m\u001b[39mlambda\u001b[39;00m obstacle: np\u001b[39m.\u001b[39;49mlinalg\u001b[39m.\u001b[39;49mnorm(\u001b[39mself\u001b[39;49m\u001b[39m.\u001b[39;49mposition \u001b[39m-\u001b[39;49m obstacle\u001b[39m.\u001b[39;49mposition))\n\u001b[1;32m     36\u001b[0m \u001b[39mif\u001b[39;00m np\u001b[39m.\u001b[39mlinalg\u001b[39m.\u001b[39mnorm(\u001b[39mself\u001b[39m\u001b[39m.\u001b[39mposition \u001b[39m-\u001b[39m closest_obstacle\u001b[39m.\u001b[39mposition) \u001b[39m<\u001b[39m \u001b[39m5\u001b[39m:\n\u001b[1;32m     37\u001b[0m     \u001b[39m# Si el obstáculo está cerca, alejarse de él\u001b[39;00m\n\u001b[1;32m     38\u001b[0m     obstacle_direction \u001b[39m=\u001b[39m \u001b[39mself\u001b[39m\u001b[39m.\u001b[39mposition \u001b[39m-\u001b[39m closest_obstacle\u001b[39m.\u001b[39mposition\n",
      "File \u001b[0;32m<__array_function__ internals>:180\u001b[0m, in \u001b[0;36mnorm\u001b[0;34m(*args, **kwargs)\u001b[0m\n",
      "File \u001b[0;32m/Library/Frameworks/Python.framework/Versions/3.9/lib/python3.9/site-packages/numpy/linalg/linalg.py:2517\u001b[0m, in \u001b[0;36mnorm\u001b[0;34m(x, ord, axis, keepdims)\u001b[0m\n\u001b[1;32m   2515\u001b[0m \u001b[39melse\u001b[39;00m:\n\u001b[1;32m   2516\u001b[0m     sqnorm \u001b[39m=\u001b[39m dot(x, x)\n\u001b[0;32m-> 2517\u001b[0m ret \u001b[39m=\u001b[39m sqrt(sqnorm)\n\u001b[1;32m   2518\u001b[0m \u001b[39mif\u001b[39;00m keepdims:\n\u001b[1;32m   2519\u001b[0m     ret \u001b[39m=\u001b[39m ret\u001b[39m.\u001b[39mreshape(ndim\u001b[39m*\u001b[39m[\u001b[39m1\u001b[39m])\n",
      "\u001b[0;31mKeyboardInterrupt\u001b[0m: "
     ]
    },
    {
     "data": {
      "image/png": "[encoded data removed]",
      "text/plain": [
       "<Figure size 800x800 with 1 Axes>"
      ]
     },
     "metadata": {},
     "output_type": "display_data"
    }
   ],
   "source": [
    "num_steps = 50\n",
    "list_images = []\n",
    "\n",
    "for step in range(num_steps):\n",
    "    plt.figure(figsize=(8, 8))\n",
    "    plt.xlim(0, 50)\n",
    "    plt.ylim(0, 50)\n",
    "    \n",
    "    prey_positions = np.array([p.position for p in prey if p.alive])\n",
    "    predator_positions = np.array([p.position for p in predators])\n",
    "\n",
    "    for obstacle in obstacles:\n",
    "        plt.plot(obstacle.position[0], obstacle.position[1], 'ko')\n",
    "    \n",
    "    if prey_positions.shape[0] > 0:\n",
    "        for predator in predators:\n",
    "            predator.update(prey, obstacles)\n",
    "        \n",
    "        for p in prey:\n",
    "            if p.alive:\n",
    "                p.update(predators, obstacles)\n",
    "                plt.plot(p.position[0], p.position[1], 'go')\n",
    "        \n",
    "        for predator in predators:\n",
    "            plt.plot(predator.position[0], predator.position[1], 'ro')\n",
    "    \n",
    "    plt.xlabel(\"x\")\n",
    "    plt.ylabel(\"y\")\n",
    "    plt.title(\"Step \" + str(step))\n",
    "    name = \"step_\" + str(step) + \".jpg\"\n",
    "    plt.savefig(name, format=\"jpg\")\n",
    "    plt.close()\n",
    "    list_images.append(name)\n",
    "\n",
    "# Crear el GIF\n",
    "images = [Image.open(path) for path in list_images]\n",
    "images[0].save('predator_prey_simulation.gif', save_all=True, append_images=images[1:], loop=0, duration=200)\n",
    "\n",
    "# Mostrar el GIF\n",
    "display(IPImage(\"predator_prey_simulation.gif\"))"
   ]
  }
 ],
 "metadata": {
  "kernelspec": {
   "display_name": "Python 3",
   "language": "python",
   "name": "python3"
  },
  "language_info": {
   "codemirror_mode": {
    "name": "ipython",
    "version": 3
   },
   "file_extension": ".py",
   "mimetype": "text/x-python",
   "name": "python",
   "nbconvert_exporter": "python",
   "pygments_lexer": "ipython3",
   "version": "3.9.2"
  },
  "orig_nbformat": 4
 },
 "nbformat": 4,
 "nbformat_minor": 2
}
