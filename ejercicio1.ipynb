{
 "cells": [
  {
   "cell_type": "markdown",
   "metadata": {},
   "source": [
    "## Laboratorio 5 - Modelación y Simulación\n",
    "### Ejercicio 1\n",
    "\n",
    "Stefano Aragoni, Carol Arévalo, Luis Santos\n",
    "\n",
    "----------------"
   ]
  },
  {
   "cell_type": "markdown",
   "metadata": {},
   "source": [
    "#### Ejercicio 1 - Depredador - Presa\n",
    "Debe crear una simulación de depredador-presa utilizando modelos basados en agentes. Modele varios tipos de\n",
    "depredadores con diferentes comportamientos y agregue obstáculos que afecten los movimientos de los agentes.\n",
    "\n",
    "Requisitos:\n",
    "- Cree una clase Predator con diferentes subclases para diferentes tipos de depredadores.\n",
    "- Modele diferentes comportamientos para distintos tipos de depredadores, como depredadores \"cazadores\" que persiguen activamente a sus presas y depredadores \"emboscadores\" que esconden y sorprenden a sus presas.\n",
    "- Agregue obstáculos que los agentes deben rodear.\n",
    "- Simule los movimientos de los agentes y visualice sus interacciones\n",
    "\n",
    "----------------"
   ]
  },
  {
   "cell_type": "code",
   "execution_count": null,
   "metadata": {},
   "outputs": [],
   "source": [
    "import numpy as np\n",
    "import matplotlib.pyplot as plt\n",
    "import uuid"
   ]
  },
  {
   "cell_type": "code",
   "execution_count": null,
   "metadata": {},
   "outputs": [],
   "source": [
    "class Obstacle():\n",
    "    def __init__(self, x, y):\n",
    "        self.position = np.array([x, y])"
   ]
  },
  {
   "cell_type": "code",
   "execution_count": null,
   "metadata": {},
   "outputs": [],
   "source": [
    "class Prey():\n",
    "    def __init__(self, x, y):\n",
    "        self.position = np.array([x, y])\n",
    "        self.alive = True\n",
    "        self.instance_hash = uuid.uuid4().hex\n",
    "        self.speed = np.random.randint(1, 3)\n",
    "    \n",
    "    def update(self, predator_list, obstacle_list):\n",
    "\n",
    "        # ------------------------------------------------------------\n",
    "        # Regla 0: Que no se lo coma el depredador - Verificar si el depredador lo atrapó\n",
    "        for predator in predator_list:\n",
    "            if np.linalg.norm(new_position - predator.position) < 3:\n",
    "                self.alive = False\n",
    "                return\n",
    "\n",
    "        # ------------------------------------------------------------\n",
    "        # Regla 1: Escapar - Huir del depredador más cercano\n",
    "        closest_predator = min(predator_list, key=lambda predator: np.linalg.norm(self.position - predator.position))\n",
    "\n",
    "        if np.linalg.norm(self.position - closest_predator.position) < 10:\n",
    "            # Si el depredador está cerca, huir de él\n",
    "            direction = self.position - closest_predator.position           # Calcular la dirección hacia el depredador más cercano \n",
    "\n",
    "        else:\n",
    "            # Si el depredador está lejos, moverse o no moverse aleatoriamente\n",
    "            if np.random.random() < 0.5:\n",
    "                direction = np.random.random(2) * 2 - 1                      # Moverse aleatoriamente\n",
    "            else:\n",
    "                direction = np.array([0, 0])\n",
    "\n",
    "        # ------------------------------------------------------------\n",
    "        # Regla 2: Evitar obstáculos - Evitar el obstáculo más cercano\n",
    "        closest_obstacle = min(obstacle_list, key=lambda obstacle: np.linalg.norm(self.position - obstacle.position))\n",
    "\n",
    "        if np.linalg.norm(self.position - closest_obstacle.position) < 5:\n",
    "            # Si el obstáculo está cerca, alejarse de él\n",
    "            obstacle_direction = self.position - closest_obstacle.position\n",
    "            obstacle_direction = obstacle_direction / np.linalg.norm(obstacle_direction)\n",
    "\n",
    "        else:\n",
    "            obstacle_direction = np.array([0, 0])\n",
    "\n",
    "        # ------------------------------------------------------------\n",
    "        # Regla 3: Alejarse de depredadores y obstáculos\n",
    "        direction = (direction + obstacle_direction) / 2\n",
    "        new_position = self.position + (direction / np.linalg.norm(direction)) * self.speed\n",
    "\n",
    "        # ------------------------------------------------------------\n",
    "        # Regla 4: Que no se salga del mapa - Restringir la nueva posición dentro de los límites del mapa\n",
    "        new_position = np.clip(new_position, 0, 100 - 1)\n",
    "\n",
    "        self.position = new_position\n"
   ]
  }
 ],
 "metadata": {
  "language_info": {
   "name": "python"
  },
  "orig_nbformat": 4
 },
 "nbformat": 4,
 "nbformat_minor": 2
}
