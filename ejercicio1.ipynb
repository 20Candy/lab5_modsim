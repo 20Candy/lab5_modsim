{
 "cells": [
  {
   "cell_type": "markdown",
   "metadata": {},
   "source": [
    "## Laboratorio 5 - Modelación y Simulación\n",
    "### Ejercicio 1\n",
    "\n",
    "Stefano Aragoni, Carol Arévalo, Luis Santos\n",
    "\n",
    "----------------"
   ]
  },
  {
   "cell_type": "markdown",
   "metadata": {},
   "source": [
    "#### Ejercicio 1 - Depredador - Presa\n",
    "Debe crear una simulación de depredador-presa utilizando modelos basados en agentes. Modele varios tipos de\n",
    "depredadores con diferentes comportamientos y agregue obstáculos que afecten los movimientos de los agentes.\n",
    "\n",
    "Requisitos:\n",
    "- Cree una clase Predator con diferentes subclases para diferentes tipos de depredadores.\n",
    "- Modele diferentes comportamientos para distintos tipos de depredadores, como depredadores \"cazadores\" que persiguen activamente a sus presas y depredadores \"emboscadores\" que esconden y sorprenden a sus presas.\n",
    "- Agregue obstáculos que los agentes deben rodear.\n",
    "- Simule los movimientos de los agentes y visualice sus interacciones\n",
    "\n",
    "----------------"
   ]
  },
  {
   "cell_type": "code",
   "execution_count": 75,
   "metadata": {},
   "outputs": [],
   "source": [
    "import numpy as np\n",
    "import matplotlib.pyplot as plt\n",
    "import uuid\n",
    "from PIL import Image\n",
    "from IPython.display import display, Image as IPImage\n",
    "\n",
    "map = 100"
   ]
  },
  {
   "cell_type": "code",
   "execution_count": 76,
   "metadata": {},
   "outputs": [],
   "source": [
    "class Obstacle():\n",
    "    def __init__(self, x, y):\n",
    "        self.position = np.array([x, y])"
   ]
  },
  {
   "cell_type": "code",
   "execution_count": 77,
   "metadata": {},
   "outputs": [],
   "source": [
    "class Predator():\n",
    "    def __init__(self, x, y):\n",
    "        self.position = np.array([x, y])\n",
    "        self.instance_hash = uuid.uuid4().hex"
   ]
  },
  {
   "cell_type": "code",
   "execution_count": 78,
   "metadata": {},
   "outputs": [],
   "source": [
    "class Hunter(Predator):\n",
    "    def __init__(self, x, y):\n",
    "        super().__init__(x, y)\n",
    "    \n",
    "    def update(self, prey_list, obstacle_list):\n",
    "        # Regla 1: \n",
    "        pass"
   ]
  },
  {
   "cell_type": "code",
   "execution_count": 79,
   "metadata": {},
   "outputs": [],
   "source": [
    "class Ambusher(Predator):\n",
    "    def __init__(self, x, y):\n",
    "        super().__init__(x, y)\n",
    "    \n",
    "    def update(self, prey_list, obstacle_list):\n",
    "        # Regla 1:\n",
    "        pass"
   ]
  },
  {
   "cell_type": "code",
   "execution_count": 80,
   "metadata": {},
   "outputs": [],
   "source": [
    "class Prey():\n",
    "    def __init__(self, x, y):\n",
    "        self.position = np.array([x, y])\n",
    "        self.alive = True\n",
    "        self.instance_hash = uuid.uuid4().hex\n",
    "        self.speed = np.random.randint(1, 3)\n",
    "    \n",
    "    def update(self, predator_list, obstacle_list):\n",
    "\n",
    "        # ------------------------------------------------------------\n",
    "        # Regla 0: Que no se lo coma el depredador - Verificar si el depredador lo atrapó\n",
    "        closest_predator = min(predator_list, key=lambda predator: np.linalg.norm(self.position - predator.position))\n",
    "        if np.linalg.norm(self.position - closest_predator.position) < 3:\n",
    "            self.alive = False\n",
    "            return\n",
    "\n",
    "        # ------------------------------------------------------------\n",
    "        # Regla 1: Escapar - Huir del depredador más cercano\n",
    "        closest_predator = min(predator_list, key=lambda predator: np.linalg.norm(self.position - predator.position))\n",
    "\n",
    "        if np.linalg.norm(self.position - closest_predator.position) < 10:\n",
    "            # Si el depredador está cerca, huir de él\n",
    "            direction = self.position - closest_predator.position           # Calcular la dirección hacia el depredador más cercano \n",
    "\n",
    "        else:\n",
    "            # Si el depredador está lejos, moverse o no moverse aleatoriamente\n",
    "            if np.random.random() < 0.5:\n",
    "                direction = np.random.random(2) * 2 - 1                      # Moverse aleatoriamente\n",
    "            else:\n",
    "                direction = np.array([0, 0])\n",
    "\n",
    "        # ------------------------------------------------------------\n",
    "        # Regla 2: Evitar obstáculos - Evitar el obstáculo más cercano\n",
    "        closest_obstacle = min(obstacle_list, key=lambda obstacle: np.linalg.norm(self.position - obstacle.position))\n",
    "        if np.linalg.norm(self.position - closest_obstacle.position) < 5:\n",
    "            # Si el obstáculo está cerca, alejarse de él\n",
    "            obstacle_direction = self.position - closest_obstacle.position\n",
    "            obstacle_direction = obstacle_direction / np.linalg.norm(obstacle_direction)\n",
    "\n",
    "        else:\n",
    "            obstacle_direction = np.array([0, 0])\n",
    "\n",
    "        # ------------------------------------------------------------\n",
    "        # Regla 3: Alejarse de depredadores y obstáculos\n",
    "        direction = (direction + obstacle_direction) / 2\n",
    "\n",
    "        if np.linalg.norm(direction) > 0:       # Si la dirección normalizada no es cero, moverse en esa dirección\n",
    "            direction_normalized = direction / np.linalg.norm(direction)\n",
    "            new_position = self.position + direction_normalized * self.speed\n",
    "        else:                                   # Si la dirección normalizada es cero, moverse aleatoriamente\n",
    "            direction_random = np.random.random(2) * 2 - 1\n",
    "            new_position = self.position + direction_random * self.speed\n",
    "\n",
    "        # ------------------------------------------------------------\n",
    "        # Regla 4: Que no se salga del mapa - Restringir la nueva posición dentro de los límites del mapa\n",
    "        new_position = np.clip(new_position, 0, map - 1)\n",
    "\n",
    "        self.position = new_position\n"
   ]
  },
  {
   "cell_type": "code",
   "execution_count": 81,
   "metadata": {},
   "outputs": [],
   "source": [
    "obstacles = []\n",
    "positions = [\"-1,-1\"]\n",
    "\n",
    "for i in range(0, 11):\n",
    "\n",
    "    x = np.random.randint(0, map-5)\n",
    "    y = np.random.randint(0, map-5)\n",
    "\n",
    "    for j in range(0, 6):\n",
    "        for k in range(0, 6):\n",
    "            obstacles.append(Obstacle(x, y))\n",
    "            positions.append(str(x) + \",\" + str(y))\n",
    "\n",
    "            x += 1\n",
    "\n",
    "        x -= 6\n",
    "        y += 1"
   ]
  },
  {
   "cell_type": "code",
   "execution_count": 82,
   "metadata": {},
   "outputs": [
    {
     "name": "stdout",
     "output_type": "stream",
     "text": [
      "Ambusher\n",
      "Hunter\n",
      "Ambusher\n",
      "Hunter\n",
      "Ambusher\n"
     ]
    }
   ],
   "source": [
    "predators = []\n",
    "num_predators = 5\n",
    "\n",
    "for i in range(0, num_predators):\n",
    "    x = -1\n",
    "    y = -1\n",
    "\n",
    "    while str(x) + \",\" + str(y) in positions:\n",
    "        x = np.random.randint(0, map-1)\n",
    "        y = np.random.randint(0, map-1)\n",
    "\n",
    "    if np.random.random() < 0.5:\n",
    "        predators.append(Hunter(x, y))\n",
    "        print(\"Hunter\")\n",
    "    else:\n",
    "        predators.append(Ambusher(x, y))\n",
    "        print(\"Ambusher\")"
   ]
  },
  {
   "cell_type": "code",
   "execution_count": 83,
   "metadata": {},
   "outputs": [],
   "source": [
    "prey = []\n",
    "num_prey = 100\n",
    "\n",
    "for i in range(0, num_prey):\n",
    "    x = -1\n",
    "    y = -1\n",
    "\n",
    "    while str(x) + \",\" + str(y) in positions:\n",
    "        x = np.random.randint(0, map-1)\n",
    "        y = np.random.randint(0, map-1)\n",
    "\n",
    "    prey.append(Prey(x, y))"
   ]
  },
  {
   "cell_type": "code",
   "execution_count": 84,
   "metadata": {},
   "outputs": [
    {
     "ename": "FileNotFoundError",
     "evalue": "[Errno 2] No such file or directory: './imgs_1/step_0.jpg'",
     "output_type": "error",
     "traceback": [
      "\u001b[0;31m---------------------------------------------------------------------------\u001b[0m",
      "\u001b[0;31mFileNotFoundError\u001b[0m                         Traceback (most recent call last)",
      "Cell \u001b[0;32mIn[84], line 31\u001b[0m\n\u001b[1;32m     29\u001b[0m plt\u001b[39m.\u001b[39mtitle(\u001b[39m\"\u001b[39m\u001b[39mStep \u001b[39m\u001b[39m\"\u001b[39m \u001b[39m+\u001b[39m \u001b[39mstr\u001b[39m(step))\n\u001b[1;32m     30\u001b[0m name \u001b[39m=\u001b[39m \u001b[39m\"\u001b[39m\u001b[39m./imgs_1/step_\u001b[39m\u001b[39m\"\u001b[39m \u001b[39m+\u001b[39m \u001b[39mstr\u001b[39m(step) \u001b[39m+\u001b[39m \u001b[39m\"\u001b[39m\u001b[39m.jpg\u001b[39m\u001b[39m\"\u001b[39m\n\u001b[0;32m---> 31\u001b[0m plt\u001b[39m.\u001b[39;49msavefig(name, \u001b[39mformat\u001b[39;49m\u001b[39m=\u001b[39;49m\u001b[39m\"\u001b[39;49m\u001b[39mjpg\u001b[39;49m\u001b[39m\"\u001b[39;49m)\n\u001b[1;32m     32\u001b[0m plt\u001b[39m.\u001b[39mclose()\n\u001b[1;32m     33\u001b[0m list_images\u001b[39m.\u001b[39mappend(name)\n",
      "File \u001b[0;32m/Library/Frameworks/Python.framework/Versions/3.9/lib/python3.9/site-packages/matplotlib/pyplot.py:942\u001b[0m, in \u001b[0;36msavefig\u001b[0;34m(*args, **kwargs)\u001b[0m\n\u001b[1;32m    939\u001b[0m \u001b[39m@_copy_docstring_and_deprecators\u001b[39m(Figure\u001b[39m.\u001b[39msavefig)\n\u001b[1;32m    940\u001b[0m \u001b[39mdef\u001b[39;00m \u001b[39msavefig\u001b[39m(\u001b[39m*\u001b[39margs, \u001b[39m*\u001b[39m\u001b[39m*\u001b[39mkwargs):\n\u001b[1;32m    941\u001b[0m     fig \u001b[39m=\u001b[39m gcf()\n\u001b[0;32m--> 942\u001b[0m     res \u001b[39m=\u001b[39m fig\u001b[39m.\u001b[39;49msavefig(\u001b[39m*\u001b[39;49margs, \u001b[39m*\u001b[39;49m\u001b[39m*\u001b[39;49mkwargs)\n\u001b[1;32m    943\u001b[0m     fig\u001b[39m.\u001b[39mcanvas\u001b[39m.\u001b[39mdraw_idle()  \u001b[39m# Need this if 'transparent=True', to reset colors.\u001b[39;00m\n\u001b[1;32m    944\u001b[0m     \u001b[39mreturn\u001b[39;00m res\n",
      "File \u001b[0;32m/Library/Frameworks/Python.framework/Versions/3.9/lib/python3.9/site-packages/matplotlib/figure.py:3272\u001b[0m, in \u001b[0;36mFigure.savefig\u001b[0;34m(self, fname, transparent, **kwargs)\u001b[0m\n\u001b[1;32m   3268\u001b[0m     \u001b[39mfor\u001b[39;00m ax \u001b[39min\u001b[39;00m \u001b[39mself\u001b[39m\u001b[39m.\u001b[39maxes:\n\u001b[1;32m   3269\u001b[0m         stack\u001b[39m.\u001b[39menter_context(\n\u001b[1;32m   3270\u001b[0m             ax\u001b[39m.\u001b[39mpatch\u001b[39m.\u001b[39m_cm_set(facecolor\u001b[39m=\u001b[39m\u001b[39m'\u001b[39m\u001b[39mnone\u001b[39m\u001b[39m'\u001b[39m, edgecolor\u001b[39m=\u001b[39m\u001b[39m'\u001b[39m\u001b[39mnone\u001b[39m\u001b[39m'\u001b[39m))\n\u001b[0;32m-> 3272\u001b[0m \u001b[39mself\u001b[39;49m\u001b[39m.\u001b[39;49mcanvas\u001b[39m.\u001b[39;49mprint_figure(fname, \u001b[39m*\u001b[39;49m\u001b[39m*\u001b[39;49mkwargs)\n",
      "File \u001b[0;32m/Library/Frameworks/Python.framework/Versions/3.9/lib/python3.9/site-packages/matplotlib/backend_bases.py:2338\u001b[0m, in \u001b[0;36mFigureCanvasBase.print_figure\u001b[0;34m(self, filename, dpi, facecolor, edgecolor, orientation, format, bbox_inches, pad_inches, bbox_extra_artists, backend, **kwargs)\u001b[0m\n\u001b[1;32m   2334\u001b[0m \u001b[39mtry\u001b[39;00m:\n\u001b[1;32m   2335\u001b[0m     \u001b[39m# _get_renderer may change the figure dpi (as vector formats\u001b[39;00m\n\u001b[1;32m   2336\u001b[0m     \u001b[39m# force the figure dpi to 72), so we need to set it again here.\u001b[39;00m\n\u001b[1;32m   2337\u001b[0m     \u001b[39mwith\u001b[39;00m cbook\u001b[39m.\u001b[39m_setattr_cm(\u001b[39mself\u001b[39m\u001b[39m.\u001b[39mfigure, dpi\u001b[39m=\u001b[39mdpi):\n\u001b[0;32m-> 2338\u001b[0m         result \u001b[39m=\u001b[39m print_method(\n\u001b[1;32m   2339\u001b[0m             filename,\n\u001b[1;32m   2340\u001b[0m             facecolor\u001b[39m=\u001b[39;49mfacecolor,\n\u001b[1;32m   2341\u001b[0m             edgecolor\u001b[39m=\u001b[39;49medgecolor,\n\u001b[1;32m   2342\u001b[0m             orientation\u001b[39m=\u001b[39;49morientation,\n\u001b[1;32m   2343\u001b[0m             bbox_inches_restore\u001b[39m=\u001b[39;49m_bbox_inches_restore,\n\u001b[1;32m   2344\u001b[0m             \u001b[39m*\u001b[39;49m\u001b[39m*\u001b[39;49mkwargs)\n\u001b[1;32m   2345\u001b[0m \u001b[39mfinally\u001b[39;00m:\n\u001b[1;32m   2346\u001b[0m     \u001b[39mif\u001b[39;00m bbox_inches \u001b[39mand\u001b[39;00m restore_bbox:\n",
      "File \u001b[0;32m/Library/Frameworks/Python.framework/Versions/3.9/lib/python3.9/site-packages/matplotlib/backend_bases.py:2204\u001b[0m, in \u001b[0;36mFigureCanvasBase._switch_canvas_and_return_print_method.<locals>.<lambda>\u001b[0;34m(*args, **kwargs)\u001b[0m\n\u001b[1;32m   2200\u001b[0m     optional_kws \u001b[39m=\u001b[39m {  \u001b[39m# Passed by print_figure for other renderers.\u001b[39;00m\n\u001b[1;32m   2201\u001b[0m         \u001b[39m\"\u001b[39m\u001b[39mdpi\u001b[39m\u001b[39m\"\u001b[39m, \u001b[39m\"\u001b[39m\u001b[39mfacecolor\u001b[39m\u001b[39m\"\u001b[39m, \u001b[39m\"\u001b[39m\u001b[39medgecolor\u001b[39m\u001b[39m\"\u001b[39m, \u001b[39m\"\u001b[39m\u001b[39morientation\u001b[39m\u001b[39m\"\u001b[39m,\n\u001b[1;32m   2202\u001b[0m         \u001b[39m\"\u001b[39m\u001b[39mbbox_inches_restore\u001b[39m\u001b[39m\"\u001b[39m}\n\u001b[1;32m   2203\u001b[0m     skip \u001b[39m=\u001b[39m optional_kws \u001b[39m-\u001b[39m {\u001b[39m*\u001b[39minspect\u001b[39m.\u001b[39msignature(meth)\u001b[39m.\u001b[39mparameters}\n\u001b[0;32m-> 2204\u001b[0m     print_method \u001b[39m=\u001b[39m functools\u001b[39m.\u001b[39mwraps(meth)(\u001b[39mlambda\u001b[39;00m \u001b[39m*\u001b[39margs, \u001b[39m*\u001b[39m\u001b[39m*\u001b[39mkwargs: meth(\n\u001b[1;32m   2205\u001b[0m         \u001b[39m*\u001b[39;49margs, \u001b[39m*\u001b[39;49m\u001b[39m*\u001b[39;49m{k: v \u001b[39mfor\u001b[39;49;00m k, v \u001b[39min\u001b[39;49;00m kwargs\u001b[39m.\u001b[39;49mitems() \u001b[39mif\u001b[39;49;00m k \u001b[39mnot\u001b[39;49;00m \u001b[39min\u001b[39;49;00m skip}))\n\u001b[1;32m   2206\u001b[0m \u001b[39melse\u001b[39;00m:  \u001b[39m# Let third-parties do as they see fit.\u001b[39;00m\n\u001b[1;32m   2207\u001b[0m     print_method \u001b[39m=\u001b[39m meth\n",
      "File \u001b[0;32m/Library/Frameworks/Python.framework/Versions/3.9/lib/python3.9/site-packages/matplotlib/_api/deprecation.py:410\u001b[0m, in \u001b[0;36mdelete_parameter.<locals>.wrapper\u001b[0;34m(*inner_args, **inner_kwargs)\u001b[0m\n\u001b[1;32m    400\u001b[0m     deprecation_addendum \u001b[39m=\u001b[39m (\n\u001b[1;32m    401\u001b[0m         \u001b[39mf\u001b[39m\u001b[39m\"\u001b[39m\u001b[39mIf any parameter follows \u001b[39m\u001b[39m{\u001b[39;00mname\u001b[39m!r}\u001b[39;00m\u001b[39m, they should be passed as \u001b[39m\u001b[39m\"\u001b[39m\n\u001b[1;32m    402\u001b[0m         \u001b[39mf\u001b[39m\u001b[39m\"\u001b[39m\u001b[39mkeyword, not positionally.\u001b[39m\u001b[39m\"\u001b[39m)\n\u001b[1;32m    403\u001b[0m     warn_deprecated(\n\u001b[1;32m    404\u001b[0m         since,\n\u001b[1;32m    405\u001b[0m         name\u001b[39m=\u001b[39m\u001b[39mrepr\u001b[39m(name),\n\u001b[0;32m   (...)\u001b[0m\n\u001b[1;32m    408\u001b[0m                  \u001b[39melse\u001b[39;00m deprecation_addendum,\n\u001b[1;32m    409\u001b[0m         \u001b[39m*\u001b[39m\u001b[39m*\u001b[39mkwargs)\n\u001b[0;32m--> 410\u001b[0m \u001b[39mreturn\u001b[39;00m func(\u001b[39m*\u001b[39;49minner_args, \u001b[39m*\u001b[39;49m\u001b[39m*\u001b[39;49minner_kwargs)\n",
      "File \u001b[0;32m/Library/Frameworks/Python.framework/Versions/3.9/lib/python3.9/site-packages/matplotlib/backends/backend_agg.py:538\u001b[0m, in \u001b[0;36mFigureCanvasAgg.print_jpg\u001b[0;34m(self, filename_or_obj, pil_kwargs, *args)\u001b[0m\n\u001b[1;32m    532\u001b[0m \u001b[39m@_api\u001b[39m\u001b[39m.\u001b[39mdelete_parameter(\u001b[39m\"\u001b[39m\u001b[39m3.5\u001b[39m\u001b[39m\"\u001b[39m, \u001b[39m\"\u001b[39m\u001b[39margs\u001b[39m\u001b[39m\"\u001b[39m)\n\u001b[1;32m    533\u001b[0m \u001b[39mdef\u001b[39;00m \u001b[39mprint_jpg\u001b[39m(\u001b[39mself\u001b[39m, filename_or_obj, \u001b[39m*\u001b[39margs, pil_kwargs\u001b[39m=\u001b[39m\u001b[39mNone\u001b[39;00m):\n\u001b[1;32m    534\u001b[0m     \u001b[39m# savefig() has already applied savefig.facecolor; we now set it to\u001b[39;00m\n\u001b[1;32m    535\u001b[0m     \u001b[39m# white to make imsave() blend semi-transparent figures against an\u001b[39;00m\n\u001b[1;32m    536\u001b[0m     \u001b[39m# assumed white background.\u001b[39;00m\n\u001b[1;32m    537\u001b[0m     \u001b[39mwith\u001b[39;00m mpl\u001b[39m.\u001b[39mrc_context({\u001b[39m\"\u001b[39m\u001b[39msavefig.facecolor\u001b[39m\u001b[39m\"\u001b[39m: \u001b[39m\"\u001b[39m\u001b[39mwhite\u001b[39m\u001b[39m\"\u001b[39m}):\n\u001b[0;32m--> 538\u001b[0m         \u001b[39mself\u001b[39;49m\u001b[39m.\u001b[39;49m_print_pil(filename_or_obj, \u001b[39m\"\u001b[39;49m\u001b[39mjpeg\u001b[39;49m\u001b[39m\"\u001b[39;49m, pil_kwargs)\n",
      "File \u001b[0;32m/Library/Frameworks/Python.framework/Versions/3.9/lib/python3.9/site-packages/matplotlib/backends/backend_agg.py:467\u001b[0m, in \u001b[0;36mFigureCanvasAgg._print_pil\u001b[0;34m(self, filename_or_obj, fmt, pil_kwargs, metadata)\u001b[0m\n\u001b[1;32m    462\u001b[0m \u001b[39m\u001b[39m\u001b[39m\"\"\"\u001b[39;00m\n\u001b[1;32m    463\u001b[0m \u001b[39mDraw the canvas, then save it using `.image.imsave` (to which\u001b[39;00m\n\u001b[1;32m    464\u001b[0m \u001b[39m*pil_kwargs* and *metadata* are forwarded).\u001b[39;00m\n\u001b[1;32m    465\u001b[0m \u001b[39m\"\"\"\u001b[39;00m\n\u001b[1;32m    466\u001b[0m FigureCanvasAgg\u001b[39m.\u001b[39mdraw(\u001b[39mself\u001b[39m)\n\u001b[0;32m--> 467\u001b[0m mpl\u001b[39m.\u001b[39;49mimage\u001b[39m.\u001b[39;49mimsave(\n\u001b[1;32m    468\u001b[0m     filename_or_obj, \u001b[39mself\u001b[39;49m\u001b[39m.\u001b[39;49mbuffer_rgba(), \u001b[39mformat\u001b[39;49m\u001b[39m=\u001b[39;49mfmt, origin\u001b[39m=\u001b[39;49m\u001b[39m\"\u001b[39;49m\u001b[39mupper\u001b[39;49m\u001b[39m\"\u001b[39;49m,\n\u001b[1;32m    469\u001b[0m     dpi\u001b[39m=\u001b[39;49m\u001b[39mself\u001b[39;49m\u001b[39m.\u001b[39;49mfigure\u001b[39m.\u001b[39;49mdpi, metadata\u001b[39m=\u001b[39;49mmetadata, pil_kwargs\u001b[39m=\u001b[39;49mpil_kwargs)\n",
      "File \u001b[0;32m/Library/Frameworks/Python.framework/Versions/3.9/lib/python3.9/site-packages/matplotlib/image.py:1656\u001b[0m, in \u001b[0;36mimsave\u001b[0;34m(fname, arr, vmin, vmax, cmap, format, origin, dpi, metadata, pil_kwargs)\u001b[0m\n\u001b[1;32m   1654\u001b[0m pil_kwargs\u001b[39m.\u001b[39msetdefault(\u001b[39m\"\u001b[39m\u001b[39mformat\u001b[39m\u001b[39m\"\u001b[39m, \u001b[39mformat\u001b[39m)\n\u001b[1;32m   1655\u001b[0m pil_kwargs\u001b[39m.\u001b[39msetdefault(\u001b[39m\"\u001b[39m\u001b[39mdpi\u001b[39m\u001b[39m\"\u001b[39m, (dpi, dpi))\n\u001b[0;32m-> 1656\u001b[0m image\u001b[39m.\u001b[39;49msave(fname, \u001b[39m*\u001b[39;49m\u001b[39m*\u001b[39;49mpil_kwargs)\n",
      "File \u001b[0;32m/Library/Frameworks/Python.framework/Versions/3.9/lib/python3.9/site-packages/PIL/Image.py:2297\u001b[0m, in \u001b[0;36mImage.save\u001b[0;34m(self, fp, format, **params)\u001b[0m\n\u001b[1;32m   2295\u001b[0m         fp \u001b[39m=\u001b[39m builtins\u001b[39m.\u001b[39mopen(filename, \u001b[39m\"\u001b[39m\u001b[39mr+b\u001b[39m\u001b[39m\"\u001b[39m)\n\u001b[1;32m   2296\u001b[0m     \u001b[39melse\u001b[39;00m:\n\u001b[0;32m-> 2297\u001b[0m         fp \u001b[39m=\u001b[39m builtins\u001b[39m.\u001b[39;49mopen(filename, \u001b[39m\"\u001b[39;49m\u001b[39mw+b\u001b[39;49m\u001b[39m\"\u001b[39;49m)\n\u001b[1;32m   2299\u001b[0m \u001b[39mtry\u001b[39;00m:\n\u001b[1;32m   2300\u001b[0m     save_handler(\u001b[39mself\u001b[39m, fp, filename)\n",
      "\u001b[0;31mFileNotFoundError\u001b[0m: [Errno 2] No such file or directory: './imgs_1/step_0.jpg'"
     ]
    },
    {
     "data": {
      "image/png": "[encoded data removed]",
      "text/plain": [
       "<Figure size 800x800 with 1 Axes>"
      ]
     },
     "metadata": {},
     "output_type": "display_data"
    }
   ],
   "source": [
    "num_steps = 50\n",
    "list_images = []\n",
    "\n",
    "for step in range(num_steps):\n",
    "    plt.figure(figsize=(8, 8))\n",
    "    plt.xlim(0, map)\n",
    "    plt.ylim(0, map)\n",
    "    \n",
    "    prey_positions = np.array([p.position for p in prey if p.alive])\n",
    "    predator_positions = np.array([p.position for p in predators])\n",
    "\n",
    "    for obstacle in obstacles:\n",
    "        plt.plot(obstacle.position[0], obstacle.position[1], 'ko')\n",
    "    \n",
    "    if prey_positions.shape[0] > 0:\n",
    "        for predator in predators:\n",
    "            predator.update(prey, obstacles)\n",
    "        \n",
    "        for p in prey:\n",
    "            if p.alive:\n",
    "                p.update(predators, obstacles)\n",
    "                plt.plot(p.position[0], p.position[1], 'go')\n",
    "        \n",
    "        for predator in predators:\n",
    "            plt.plot(predator.position[0], predator.position[1], 'ro')\n",
    "    \n",
    "    plt.xlabel(\"x\")\n",
    "    plt.ylabel(\"y\")\n",
    "    plt.title(\"Step \" + str(step))\n",
    "    name = \"images1/step_\" + str(step) + \".jpg\"\n",
    "    plt.savefig(name, format=\"jpg\")\n",
    "    plt.close()\n",
    "    list_images.append(name)\n",
    "\n",
    "# Crear el GIF\n",
    "images = [Image.open(path) for path in list_images]\n",
    "images[0].save('predator_prey_simulation.gif', save_all=True, append_images=images[1:], loop=0, duration=200)\n",
    "\n",
    "# Mostrar el GIF\n",
    "display(IPImage(\"predator_prey_simulation.gif\"))"
   ]
  }
 ],
 "metadata": {
  "kernelspec": {
   "display_name": "Python 3",
   "language": "python",
   "name": "python3"
  },
  "language_info": {
   "codemirror_mode": {
    "name": "ipython",
    "version": 3
   },
   "file_extension": ".py",
   "mimetype": "text/x-python",
   "name": "python",
   "nbconvert_exporter": "python",
   "pygments_lexer": "ipython3",
   "version": "3.9.2"
  },
  "orig_nbformat": 4
 },
 "nbformat": 4,
 "nbformat_minor": 2
}
